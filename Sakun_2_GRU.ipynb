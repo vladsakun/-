{
  "nbformat": 4,
  "nbformat_minor": 0,
  "metadata": {
    "colab": {
      "provenance": []
    },
    "kernelspec": {
      "name": "python3",
      "display_name": "Python 3"
    },
    "language_info": {
      "name": "python"
    }
  },
  "cells": [
    {
      "cell_type": "markdown",
      "source": [
        "**Лабораторна робота 2.2**\n",
        "\n",
        "**студента групи ФІТ 4-4**\n",
        "\n",
        "**Сакуна Владислава Олександровича**\n",
        "\n",
        "Тема: створення RNN для семантичного аналізу тексту з викристанням моделі GRU"
      ],
      "metadata": {
        "id": "BSzGK2QJXNr4"
      }
    },
    {
      "cell_type": "markdown",
      "source": [
        "**ЗАВДАННЯ 1**\n",
        "\n",
        "Створити RNN для семантичного аналізу тексту з використанням моделі GRU.\n",
        "\n",
        "Розробити власну архітектуру, кількість рекурентних шарів, функції активації, вибрати оптимізатор. Отримати для двох моделей по дві рецензії (позитивну і негативну)."
      ],
      "metadata": {
        "id": "06fNoW8BXQQE"
      }
    },
    {
      "cell_type": "code",
      "execution_count": 1,
      "metadata": {
        "colab": {
          "base_uri": "https://localhost:8080/"
        },
        "id": "2yxnyB9oXIIa",
        "outputId": "a1ac8f13-ce31-4a0b-bf03-42b52c41f46f"
      },
      "outputs": [
        {
          "output_type": "stream",
          "name": "stdout",
          "text": [
            "Model: \"sequential\"\n",
            "_________________________________________________________________\n",
            " Layer (type)                Output Shape              Param #   \n",
            "=================================================================\n",
            " embedding (Embedding)       (None, 10, 128)           128000    \n",
            "                                                                 \n",
            " gru (GRU)                   (None, 10, 128)           99072     \n",
            "                                                                 \n",
            " gru_1 (GRU)                 (None, 64)                37248     \n",
            "                                                                 \n",
            " dense (Dense)               (None, 2)                 130       \n",
            "                                                                 \n",
            "=================================================================\n",
            "Total params: 264450 (1.01 MB)\n",
            "Trainable params: 264450 (1.01 MB)\n",
            "Non-trainable params: 0 (0.00 Byte)\n",
            "_________________________________________________________________\n",
            "Epoch 1/50\n",
            "1/1 [==============================] - 6s 6s/step - loss: 0.6941 - accuracy: 0.5000\n",
            "Epoch 2/50\n",
            "1/1 [==============================] - 0s 36ms/step - loss: 0.6928 - accuracy: 0.6667\n",
            "Epoch 3/50\n",
            "1/1 [==============================] - 0s 39ms/step - loss: 0.6914 - accuracy: 0.6667\n",
            "Epoch 4/50\n",
            "1/1 [==============================] - 0s 38ms/step - loss: 0.6901 - accuracy: 0.6667\n",
            "Epoch 5/50\n",
            "1/1 [==============================] - 0s 34ms/step - loss: 0.6887 - accuracy: 0.8333\n",
            "Epoch 6/50\n",
            "1/1 [==============================] - 0s 39ms/step - loss: 0.6873 - accuracy: 0.8333\n",
            "Epoch 7/50\n",
            "1/1 [==============================] - 0s 35ms/step - loss: 0.6859 - accuracy: 0.8333\n",
            "Epoch 8/50\n",
            "1/1 [==============================] - 0s 31ms/step - loss: 0.6845 - accuracy: 0.8333\n",
            "Epoch 9/50\n",
            "1/1 [==============================] - 0s 35ms/step - loss: 0.6831 - accuracy: 0.8333\n",
            "Epoch 10/50\n",
            "1/1 [==============================] - 0s 34ms/step - loss: 0.6817 - accuracy: 1.0000\n",
            "Epoch 11/50\n",
            "1/1 [==============================] - 0s 34ms/step - loss: 0.6803 - accuracy: 1.0000\n",
            "Epoch 12/50\n",
            "1/1 [==============================] - 0s 37ms/step - loss: 0.6788 - accuracy: 1.0000\n",
            "Epoch 13/50\n",
            "1/1 [==============================] - 0s 39ms/step - loss: 0.6773 - accuracy: 1.0000\n",
            "Epoch 14/50\n",
            "1/1 [==============================] - 0s 42ms/step - loss: 0.6758 - accuracy: 1.0000\n",
            "Epoch 15/50\n",
            "1/1 [==============================] - 0s 55ms/step - loss: 0.6743 - accuracy: 1.0000\n",
            "Epoch 16/50\n",
            "1/1 [==============================] - 0s 51ms/step - loss: 0.6727 - accuracy: 1.0000\n",
            "Epoch 17/50\n",
            "1/1 [==============================] - 0s 38ms/step - loss: 0.6711 - accuracy: 1.0000\n",
            "Epoch 18/50\n",
            "1/1 [==============================] - 0s 38ms/step - loss: 0.6694 - accuracy: 1.0000\n",
            "Epoch 19/50\n",
            "1/1 [==============================] - 0s 38ms/step - loss: 0.6677 - accuracy: 1.0000\n",
            "Epoch 20/50\n",
            "1/1 [==============================] - 0s 37ms/step - loss: 0.6659 - accuracy: 1.0000\n",
            "Epoch 21/50\n",
            "1/1 [==============================] - 0s 35ms/step - loss: 0.6641 - accuracy: 1.0000\n",
            "Epoch 22/50\n",
            "1/1 [==============================] - 0s 34ms/step - loss: 0.6623 - accuracy: 1.0000\n",
            "Epoch 23/50\n",
            "1/1 [==============================] - 0s 47ms/step - loss: 0.6604 - accuracy: 1.0000\n",
            "Epoch 24/50\n",
            "1/1 [==============================] - 0s 39ms/step - loss: 0.6584 - accuracy: 1.0000\n",
            "Epoch 25/50\n",
            "1/1 [==============================] - 0s 71ms/step - loss: 0.6563 - accuracy: 1.0000\n",
            "Epoch 26/50\n",
            "1/1 [==============================] - 0s 60ms/step - loss: 0.6542 - accuracy: 1.0000\n",
            "Epoch 27/50\n",
            "1/1 [==============================] - 0s 45ms/step - loss: 0.6520 - accuracy: 1.0000\n",
            "Epoch 28/50\n",
            "1/1 [==============================] - 0s 38ms/step - loss: 0.6497 - accuracy: 1.0000\n",
            "Epoch 29/50\n",
            "1/1 [==============================] - 0s 36ms/step - loss: 0.6473 - accuracy: 1.0000\n",
            "Epoch 30/50\n",
            "1/1 [==============================] - 0s 29ms/step - loss: 0.6448 - accuracy: 1.0000\n",
            "Epoch 31/50\n",
            "1/1 [==============================] - 0s 31ms/step - loss: 0.6423 - accuracy: 1.0000\n",
            "Epoch 32/50\n",
            "1/1 [==============================] - 0s 31ms/step - loss: 0.6396 - accuracy: 1.0000\n",
            "Epoch 33/50\n",
            "1/1 [==============================] - 0s 32ms/step - loss: 0.6368 - accuracy: 1.0000\n",
            "Epoch 34/50\n",
            "1/1 [==============================] - 0s 33ms/step - loss: 0.6339 - accuracy: 1.0000\n",
            "Epoch 35/50\n",
            "1/1 [==============================] - 0s 37ms/step - loss: 0.6309 - accuracy: 1.0000\n",
            "Epoch 36/50\n",
            "1/1 [==============================] - 0s 34ms/step - loss: 0.6277 - accuracy: 1.0000\n",
            "Epoch 37/50\n",
            "1/1 [==============================] - 0s 32ms/step - loss: 0.6244 - accuracy: 1.0000\n",
            "Epoch 38/50\n",
            "1/1 [==============================] - 0s 39ms/step - loss: 0.6209 - accuracy: 1.0000\n",
            "Epoch 39/50\n",
            "1/1 [==============================] - 0s 52ms/step - loss: 0.6173 - accuracy: 1.0000\n",
            "Epoch 40/50\n",
            "1/1 [==============================] - 0s 43ms/step - loss: 0.6135 - accuracy: 1.0000\n",
            "Epoch 41/50\n",
            "1/1 [==============================] - 0s 46ms/step - loss: 0.6096 - accuracy: 1.0000\n",
            "Epoch 42/50\n",
            "1/1 [==============================] - 0s 42ms/step - loss: 0.6054 - accuracy: 1.0000\n",
            "Epoch 43/50\n",
            "1/1 [==============================] - 0s 46ms/step - loss: 0.6011 - accuracy: 1.0000\n",
            "Epoch 44/50\n",
            "1/1 [==============================] - 0s 37ms/step - loss: 0.5965 - accuracy: 1.0000\n",
            "Epoch 45/50\n",
            "1/1 [==============================] - 0s 36ms/step - loss: 0.5918 - accuracy: 1.0000\n",
            "Epoch 46/50\n",
            "1/1 [==============================] - 0s 37ms/step - loss: 0.5868 - accuracy: 1.0000\n",
            "Epoch 47/50\n",
            "1/1 [==============================] - 0s 38ms/step - loss: 0.5816 - accuracy: 1.0000\n",
            "Epoch 48/50\n",
            "1/1 [==============================] - 0s 32ms/step - loss: 0.5761 - accuracy: 1.0000\n",
            "Epoch 49/50\n",
            "1/1 [==============================] - 0s 33ms/step - loss: 0.5704 - accuracy: 1.0000\n",
            "Epoch 50/50\n",
            "1/1 [==============================] - 0s 32ms/step - loss: 0.5644 - accuracy: 1.0000\n",
            "1/1 [==============================] - 1s 1s/step\n",
            "[[0.52828354 0.47171643]]\n"
          ]
        }
      ],
      "source": [
        "import numpy as np\n",
        "from tensorflow.keras.layers import Dense, GRU, Input, Embedding\n",
        "from tensorflow.keras.models import Sequential\n",
        "from tensorflow.keras.optimizers import Adam\n",
        "from tensorflow.keras.preprocessing.text import Tokenizer\n",
        "from tensorflow.keras.preprocessing.sequence import pad_sequences\n",
        "\n",
        "# Позитивні та негативні тексти\n",
        "texts_true = [\n",
        "     \"Ця книга вражає своєю глибиною та проникливістю.\",\n",
        "    \"Автор зумів майстерно розкрити головних героїв, надаючи їм життєвий досвід.\",\n",
        "    \"Читання цієї книги залишає після себе незабутні враження та відчуття вдячності.\"\n",
        "]\n",
        "\n",
        "texts_false = [\n",
        "    \"Ця книга розчарувала своїми плоскими персонажами та передбачуваним сюжетом.\",\n",
        "    \"Стиль автора в цій книзі відчувається дуже механічним та бездушним.\",\n",
        "    \"Читання цієї книги не принесло жодного задоволення, лише втрату часу та розчарування.\"\n",
        "]\n",
        "\n",
        "texts = texts_true + texts_false\n",
        "count_true = len(texts_true)\n",
        "count_false = len(texts_false)\n",
        "\n",
        "maxWordsCount = 1000\n",
        "tokenizer = Tokenizer(num_words=maxWordsCount, filters='!–\"—#$%&()*+,-./:;<=>?@[\\]^_`{|}~\\t\\n\\r«»', lower=True, split=' ', char_level=False)\n",
        "tokenizer.fit_on_texts(texts)\n",
        "\n",
        "max_text_len = 10\n",
        "data = tokenizer.texts_to_sequences(texts)\n",
        "data_pad = pad_sequences(data, maxlen=max_text_len)\n",
        "\n",
        "# Побудова моделі\n",
        "model = Sequential()\n",
        "model.add(Embedding(maxWordsCount, 128, input_length=max_text_len))\n",
        "model.add(GRU(128, return_sequences=True))\n",
        "model.add(GRU(64))\n",
        "model.add(Dense(2, activation='softmax'))\n",
        "model.summary()\n",
        "\n",
        "model.compile(loss='categorical_crossentropy', metrics=['accuracy'], optimizer=Adam(0.0001))\n",
        "history = model.fit(data_pad, np.array([[1, 0]]*count_true + [[0, 1]]*count_false), batch_size=32, epochs=50)\n",
        "\n",
        "t = \"Це неймовірно добра книга\".lower()\n",
        "data = tokenizer.texts_to_sequences([t])\n",
        "data_pad = pad_sequences(data, maxlen=max_text_len)\n",
        "res = model.predict(data_pad)\n",
        "\n",
        "print(res)"
      ]
    },
    {
      "cell_type": "code",
      "source": [
        "if res[0][0] > res[0][1]:\n",
        "    print(\"Результат є позитивним\")\n",
        "else:\n",
        "    print(\"Результат є негативним\")"
      ],
      "metadata": {
        "colab": {
          "base_uri": "https://localhost:8080/"
        },
        "id": "gCoaRcNTXgLs",
        "outputId": "1079c934-3199-4841-fb98-7c6abd461c3c"
      },
      "execution_count": 2,
      "outputs": [
        {
          "output_type": "stream",
          "name": "stdout",
          "text": [
            "Результат є позитивним\n"
          ]
        }
      ]
    },
    {
      "cell_type": "code",
      "source": [
        "reverse_word_map = dict(map(reversed, tokenizer.word_index.items()))\n",
        "\n",
        "def sequence_to_text(list_of_indices):\n",
        "    words = [reverse_word_map.get(letter) for letter in list_of_indices]\n",
        "    return \" \".join(words)\n",
        "\n",
        "t1 = \"Книга чудова\".lower()\n",
        "data1 = tokenizer.texts_to_sequences([t1])\n",
        "data1_pad = pad_sequences(data1, maxlen=max_text_len)\n",
        "print(sequence_to_text(data1[0]))\n",
        "\n",
        "res1 = model.predict(data1_pad)"
      ],
      "metadata": {
        "colab": {
          "base_uri": "https://localhost:8080/"
        },
        "id": "R6S92fqBXnjY",
        "outputId": "25dda913-2815-4033-aff1-e0cd1d1bdf8d"
      },
      "execution_count": 3,
      "outputs": [
        {
          "output_type": "stream",
          "name": "stdout",
          "text": [
            "книга\n",
            "1/1 [==============================] - 0s 32ms/step\n"
          ]
        }
      ]
    },
    {
      "cell_type": "code",
      "source": [
        "if res[0][0] > res[0][1]:\n",
        "    print(\"Результат є позитивним\")\n",
        "else:\n",
        "    print(\"Результат є негативним\")"
      ],
      "metadata": {
        "colab": {
          "base_uri": "https://localhost:8080/"
        },
        "id": "_t7UNnWqXpP8",
        "outputId": "d68fefed-3694-47bb-ec20-2f027ac522b4"
      },
      "execution_count": 4,
      "outputs": [
        {
          "output_type": "stream",
          "name": "stdout",
          "text": [
            "Результат є позитивним\n"
          ]
        }
      ]
    }
  ]
}