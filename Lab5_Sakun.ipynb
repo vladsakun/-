{
  "nbformat": 4,
  "nbformat_minor": 0,
  "metadata": {
    "colab": {
      "provenance": []
    },
    "kernelspec": {
      "name": "python3",
      "display_name": "Python 3"
    },
    "language_info": {
      "name": "python"
    }
  },
  "cells": [
    {
      "cell_type": "markdown",
      "source": [
        "Лабораторна робота 5\n",
        "\n",
        "Сакуна Владислава, ФІТ 4-4"
      ],
      "metadata": {
        "id": "d9fbixY6AMAh"
      }
    },
    {
      "cell_type": "markdown",
      "source": [
        "1. Прочитайте CSV файл spark.read.csv()"
      ],
      "metadata": {
        "id": "eoQdI4V8ATml"
      }
    },
    {
      "cell_type": "code",
      "execution_count": 1,
      "metadata": {
        "colab": {
          "base_uri": "https://localhost:8080/"
        },
        "id": "VObKXZb-ALaY",
        "outputId": "ed348af1-f12e-4acf-b612-4fdde23df4a6"
      },
      "outputs": [
        {
          "output_type": "stream",
          "name": "stdout",
          "text": [
            "Collecting pyspark==3.0.1\n",
            "  Downloading pyspark-3.0.1.tar.gz (204.2 MB)\n",
            "\u001b[2K     \u001b[90m━━━━━━━━━━━━━━━━━━━━━━━━━━━━━━━━━━━━━━━━\u001b[0m \u001b[32m204.2/204.2 MB\u001b[0m \u001b[31m4.8 MB/s\u001b[0m eta \u001b[36m0:00:00\u001b[0m\n",
            "\u001b[?25h  Preparing metadata (setup.py) ... \u001b[?25l\u001b[?25hdone\n",
            "Collecting py4j==0.10.9\n",
            "  Downloading py4j-0.10.9-py2.py3-none-any.whl (198 kB)\n",
            "\u001b[2K     \u001b[90m━━━━━━━━━━━━━━━━━━━━━━━━━━━━━━━━━━━━━━━━\u001b[0m \u001b[32m198.6/198.6 kB\u001b[0m \u001b[31m20.6 MB/s\u001b[0m eta \u001b[36m0:00:00\u001b[0m\n",
            "\u001b[?25hBuilding wheels for collected packages: pyspark\n",
            "  Building wheel for pyspark (setup.py) ... \u001b[?25l\u001b[?25hdone\n",
            "  Created wheel for pyspark: filename=pyspark-3.0.1-py2.py3-none-any.whl size=204612223 sha256=ad8ce2e88c46fb526aaa41f83c7e977ac89a042877bd4093c7dfa36e7edfd707\n",
            "  Stored in directory: /root/.cache/pip/wheels/19/b0/c8/6cb894117070e130fc44352c2a13f15b6c27e440d04a84fb48\n",
            "Successfully built pyspark\n",
            "Installing collected packages: py4j, pyspark\n",
            "  Attempting uninstall: py4j\n",
            "    Found existing installation: py4j 0.10.9.7\n",
            "    Uninstalling py4j-0.10.9.7:\n",
            "      Successfully uninstalled py4j-0.10.9.7\n",
            "Successfully installed py4j-0.10.9 pyspark-3.0.1\n"
          ]
        }
      ],
      "source": [
        "!pip install pyspark==3.0.1 py4j==0.10.9\n",
        "\n",
        "from pyspark.sql import SparkSession\n",
        "from pyspark.sql.functions import mean, when\n",
        "from pyspark.ml.feature import Imputer\n",
        "import matplotlib.pyplot as plt\n",
        "from pyspark.ml.feature import Imputer\n",
        "from pyspark.sql.types import FloatType\n",
        "from pyspark.sql.functions import col as spark_col\n",
        "\n",
        "spark = SparkSession.builder \\\n",
        "    .appName(\"Amazon Bestselling Books\") \\\n",
        "    .getOrCreate()\n",
        "\n",
        "df = spark.read.csv(\"/content/sample_data/bestsellers with categories.csv\", header=True, inferSchema=True)"
      ]
    },
    {
      "cell_type": "markdown",
      "source": [
        "2. Вивести схему даних за допомогою PrintSchema."
      ],
      "metadata": {
        "id": "ZnVg53FaAY0Y"
      }
    },
    {
      "cell_type": "code",
      "source": [
        "print(\"Схема даних:\")\n",
        "df.printSchema()"
      ],
      "metadata": {
        "colab": {
          "base_uri": "https://localhost:8080/"
        },
        "id": "swEm2Ve6AaWE",
        "outputId": "0fd362e2-1aaf-4476-96b1-3dc52aad3b6f"
      },
      "execution_count": 2,
      "outputs": [
        {
          "output_type": "stream",
          "name": "stdout",
          "text": [
            "Схема даних:\n",
            "root\n",
            " |-- Name: string (nullable = true)\n",
            " |-- Author: string (nullable = true)\n",
            " |-- User Rating: double (nullable = true)\n",
            " |-- Reviews: integer (nullable = true)\n",
            " |-- Price: integer (nullable = true)\n",
            " |-- Year: integer (nullable = true)\n",
            " |-- Genre: string (nullable = true)\n",
            "\n"
          ]
        }
      ]
    },
    {
      "cell_type": "markdown",
      "source": [
        "3. Вивести назви стовпців і типи даних за допомогою dtypes"
      ],
      "metadata": {
        "id": "klm6mFHqAb_-"
      }
    },
    {
      "cell_type": "code",
      "source": [
        "print(\"\\nНазви стовпців і типи даних:\")\n",
        "print(df.dtypes)"
      ],
      "metadata": {
        "colab": {
          "base_uri": "https://localhost:8080/"
        },
        "id": "hQlsPK4JAdZ0",
        "outputId": "20e8b0d7-3765-44e6-ac7d-204f11ef8528"
      },
      "execution_count": 3,
      "outputs": [
        {
          "output_type": "stream",
          "name": "stdout",
          "text": [
            "\n",
            "Назви стовпців і типи даних:\n",
            "[('Name', 'string'), ('Author', 'string'), ('User Rating', 'double'), ('Reviews', 'int'), ('Price', 'int'), ('Year', 'int'), ('Genre', 'string')]\n"
          ]
        }
      ]
    },
    {
      "cell_type": "markdown",
      "source": [
        "4. Виведіть перші п'ять рядків (використовується метод head)"
      ],
      "metadata": {
        "id": "QISO70MdAe05"
      }
    },
    {
      "cell_type": "code",
      "source": [
        "print(\"\\nПерші п'ять рядків:\")\n",
        "df.show(5)"
      ],
      "metadata": {
        "colab": {
          "base_uri": "https://localhost:8080/"
        },
        "id": "A09KJqIXAgyE",
        "outputId": "3787f29c-a0bd-489e-d083-51143d7bb881"
      },
      "execution_count": 4,
      "outputs": [
        {
          "output_type": "stream",
          "name": "stdout",
          "text": [
            "\n",
            "Перші п'ять рядків:\n",
            "+--------------------+--------------------+-----------+-------+-----+----+-----------+\n",
            "|                Name|              Author|User Rating|Reviews|Price|Year|      Genre|\n",
            "+--------------------+--------------------+-----------+-------+-----+----+-----------+\n",
            "|10-Day Green Smoo...|            JJ Smith|        4.7|  17350|    8|2016|Non Fiction|\n",
            "|   11/22/63: A Novel|        Stephen King|        4.6|   2052|   22|2011|    Fiction|\n",
            "|12 Rules for Life...|  Jordan B. Peterson|        4.7|  18979|   15|2018|Non Fiction|\n",
            "|1984 (Signet Clas...|       George Orwell|        4.7|  21424|    6|2017|    Fiction|\n",
            "|5,000 Awesome Fac...|National Geograph...|        4.8|   7665|   12|2019|Non Fiction|\n",
            "+--------------------+--------------------+-----------+-------+-----+----+-----------+\n",
            "only showing top 5 rows\n",
            "\n"
          ]
        }
      ]
    },
    {
      "cell_type": "markdown",
      "source": [
        "5. Вивести перший рядок за допомогою first()"
      ],
      "metadata": {
        "id": "HOvrRuCJAiA8"
      }
    },
    {
      "cell_type": "code",
      "source": [
        "print(\"\\nПерший рядок:\")\n",
        "print(df.first())"
      ],
      "metadata": {
        "colab": {
          "base_uri": "https://localhost:8080/"
        },
        "id": "rPhqbWU2AkUi",
        "outputId": "963a767b-e04d-43ae-ec3e-440502ee963a"
      },
      "execution_count": 5,
      "outputs": [
        {
          "output_type": "stream",
          "name": "stdout",
          "text": [
            "\n",
            "Перший рядок:\n",
            "Row(Name='10-Day Green Smoothie Cleanse', Author='JJ Smith', User Rating=4.7, Reviews=17350, Price=8, Year=2016, Genre='Non Fiction')\n"
          ]
        }
      ]
    },
    {
      "cell_type": "markdown",
      "source": [
        "6. Зробіть опис датасету за допомогою describe()"
      ],
      "metadata": {
        "id": "pqz1lq5IAlle"
      }
    },
    {
      "cell_type": "code",
      "source": [
        "print(\"\\nОпис датасету:\")\n",
        "df.describe().show()"
      ],
      "metadata": {
        "colab": {
          "base_uri": "https://localhost:8080/"
        },
        "id": "6hwu0L1hAm9g",
        "outputId": "bc5cf3e0-fede-4778-826e-f56f67eb0f83"
      },
      "execution_count": 6,
      "outputs": [
        {
          "output_type": "stream",
          "name": "stdout",
          "text": [
            "\n",
            "Опис датасету:\n",
            "+-------+--------------------+----------------+-------------------+------------------+------------------+------------------+-----------+\n",
            "|summary|                Name|          Author|        User Rating|           Reviews|             Price|              Year|      Genre|\n",
            "+-------+--------------------+----------------+-------------------+------------------+------------------+------------------+-----------+\n",
            "|  count|                 550|             550|                550|               550|               550|               550|        550|\n",
            "|   mean|                null|            null|  4.618363636363641|11953.281818181818|              13.1|            2014.0|       null|\n",
            "| stddev|                null|            null|0.22698036502519656|11731.132017431892|10.842261978422364|3.1651563841692782|       null|\n",
            "|    min|\"The Plant Parado...|Abraham Verghese|                3.3|                37|                 0|              2009|    Fiction|\n",
            "|    max|You Are a Badass:...|    Zhi Gang Sha|                4.9|             87841|               105|              2019|Non Fiction|\n",
            "+-------+--------------------+----------------+-------------------+------------------+------------------+------------------+-----------+\n",
            "\n"
          ]
        }
      ]
    },
    {
      "cell_type": "markdown",
      "source": [
        "7. Виведіть список стовпців за допомогою columns()"
      ],
      "metadata": {
        "id": "V3nGJZT6AodM"
      }
    },
    {
      "cell_type": "code",
      "source": [
        "print(\"\\nСписок стовпців:\")\n",
        "print(df.columns)"
      ],
      "metadata": {
        "colab": {
          "base_uri": "https://localhost:8080/"
        },
        "id": "B5_PYunhAp5I",
        "outputId": "1917dd2f-c601-4afa-a3f9-42feea102400"
      },
      "execution_count": 7,
      "outputs": [
        {
          "output_type": "stream",
          "name": "stdout",
          "text": [
            "\n",
            "Список стовпців:\n",
            "['Name', 'Author', 'User Rating', 'Reviews', 'Price', 'Year', 'Genre']\n"
          ]
        }
      ]
    },
    {
      "cell_type": "markdown",
      "source": [
        "8. Виведіть загальну кількість рядків даних за допомогою count()"
      ],
      "metadata": {
        "id": "aGE7zo-CArGM"
      }
    },
    {
      "cell_type": "code",
      "source": [
        "print(\"\\nЗагальна кількість рядків даних:\", df.count())"
      ],
      "metadata": {
        "colab": {
          "base_uri": "https://localhost:8080/"
        },
        "id": "GeFl4U9tAse0",
        "outputId": "0c4c0f9f-a3ac-4dae-ee93-913a1f96c0fd"
      },
      "execution_count": 8,
      "outputs": [
        {
          "output_type": "stream",
          "name": "stdout",
          "text": [
            "\n",
            "Загальна кількість рядків даних: 550\n"
          ]
        }
      ]
    },
    {
      "cell_type": "markdown",
      "source": [
        "9. Перевірте, чи у всіх рядків вистачає даних. Якщо є пропуски, замінить їх на NaN, потім тип даних на числовий."
      ],
      "metadata": {
        "id": "OuuDPie1At9k"
      }
    },
    {
      "cell_type": "code",
      "source": [
        "from pyspark.sql.functions import col, when\n",
        "from pyspark.sql.functions import mean\n",
        "\n",
        "# Замінюємо пропущені значення на NaN та змінюємо тип даних на числовий\n",
        "df = df.select([when(col(c).isNull(), float('nan')).otherwise(col(c)).alias(c) for c in df.columns])"
      ],
      "metadata": {
        "id": "68Su3NljAwIR"
      },
      "execution_count": 9,
      "outputs": []
    },
    {
      "cell_type": "markdown",
      "source": [
        "10. Замініть комірки з пропущеними значенями на середні за стовпцем. І тип даних на float.\n",
        "Про скільки книг зберігає дані датасет?"
      ],
      "metadata": {
        "id": "NBypMhyTAxdY"
      }
    },
    {
      "cell_type": "code",
      "source": [
        "for col in df.columns:\n",
        "    mean_value = df.select(mean(col)).collect()[0][0]\n",
        "    df = df.withColumn(col, when(df[col].isNull(), mean_value).otherwise(df[col]))\n",
        "\n",
        "# Змінюємо назви стовпців\n",
        "df = df.toDF(*['name', 'author', 'user_rating', 'reviews', 'price', 'year', 'genre'])\n",
        "\n",
        "# Знаходимо кількість книг у датасеті\n",
        "books_count = df.count()\n",
        "print(\"\\nКількість книг у датасеті:\", books_count)"
      ],
      "metadata": {
        "colab": {
          "base_uri": "https://localhost:8080/"
        },
        "id": "SGtfctYHAzdf",
        "outputId": "bf3857a7-1e7d-448d-856a-f11f43cdd57f"
      },
      "execution_count": 10,
      "outputs": [
        {
          "output_type": "stream",
          "name": "stdout",
          "text": [
            "\n",
            "Кількість книг у датасеті: 550\n"
          ]
        }
      ]
    },
    {
      "cell_type": "markdown",
      "source": [
        "11. Змініть назви всіх колонок: назва з маленької букви, без пробілів через підкреслення.\n",
        "df.columns = ['name', 'author', 'user_rating', 'reviews', 'price', 'year', 'genre']"
      ],
      "metadata": {
        "id": "N0iFOz58A1HN"
      }
    },
    {
      "cell_type": "code",
      "source": [
        "df = df.toDF(*[col.lower().replace(' ', '_') for col in df.columns])"
      ],
      "metadata": {
        "id": "UWZvaKg8A2T0"
      },
      "execution_count": 11,
      "outputs": []
    },
    {
      "cell_type": "markdown",
      "source": [
        "12. Знайдіть автора з найвищим рейтингом."
      ],
      "metadata": {
        "id": "X5lL3tj6A37M"
      }
    },
    {
      "cell_type": "code",
      "source": [
        "max_rating_author = df.orderBy(df['user_rating'].desc()).select('author').first()[0]\n",
        "print(\"\\nАвтор з найвищим рейтингом:\", max_rating_author)"
      ],
      "metadata": {
        "colab": {
          "base_uri": "https://localhost:8080/"
        },
        "id": "LEMp32ovA49S",
        "outputId": "a5977d90-87ea-4aa5-ad6f-8c95a7fb8095"
      },
      "execution_count": 12,
      "outputs": [
        {
          "output_type": "stream",
          "name": "stdout",
          "text": [
            "\n",
            "Автор з найвищим рейтингом: Bill Martin Jr.\n"
          ]
        }
      ]
    },
    {
      "cell_type": "markdown",
      "source": [
        "13. Знайдіть автора з найнижчим рейтингом."
      ],
      "metadata": {
        "id": "qYC_4GW7A6I4"
      }
    },
    {
      "cell_type": "code",
      "source": [
        "min_rating_author = df.orderBy(df['user_rating']).select('author').first()[0]\n",
        "print(\"\\nАвтор з найнижчим рейтингом:\", min_rating_author)"
      ],
      "metadata": {
        "colab": {
          "base_uri": "https://localhost:8080/"
        },
        "id": "DmBZKl8WA8Cl",
        "outputId": "b644f201-71b5-405b-ffb1-21ff6e1db78e"
      },
      "execution_count": 13,
      "outputs": [
        {
          "output_type": "stream",
          "name": "stdout",
          "text": [
            "\n",
            "Автор з найнижчим рейтингом: J.K. Rowling\n"
          ]
        }
      ]
    },
    {
      "cell_type": "markdown",
      "source": [
        "14. Знайдіть автора, що має найбільшу кількіть рецензій."
      ],
      "metadata": {
        "id": "Z_DXpS7bA9ci"
      }
    },
    {
      "cell_type": "code",
      "source": [
        "max_reviews_author = df.orderBy(df['reviews'].desc()).select('author').first()[0]\n",
        "print(\"\\nАвтор з найбільшою кількістю рецензій:\", max_reviews_author)"
      ],
      "metadata": {
        "colab": {
          "base_uri": "https://localhost:8080/"
        },
        "id": "RVMIVO6lA-0x",
        "outputId": "2c5ed9c9-aac0-4b9e-8302-90281b59882f"
      },
      "execution_count": 14,
      "outputs": [
        {
          "output_type": "stream",
          "name": "stdout",
          "text": [
            "\n",
            "Автор з найбільшою кількістю рецензій: Delia Owens\n"
          ]
        }
      ]
    },
    {
      "cell_type": "markdown",
      "source": [
        "15. Побудуйте гістограму рейтингу 10 найкращих книг (відібрати книги з найбільшим рейтингом)."
      ],
      "metadata": {
        "id": "tVi_vdvLBAdd"
      }
    },
    {
      "cell_type": "code",
      "source": [
        "import matplotlib.pyplot as plt\n",
        "\n",
        "top_10_books = df.orderBy(df['user_rating'].desc()).limit(10).toPandas()\n",
        "plt.hist(top_10_books['user_rating'], bins=10, color='skyblue', edgecolor='black')\n",
        "plt.title('Гістограма рейтингу 10 найкращих книг')\n",
        "plt.xlabel('Рейтинг')\n",
        "plt.ylabel('Кількість книг')\n",
        "plt.show()"
      ],
      "metadata": {
        "colab": {
          "base_uri": "https://localhost:8080/",
          "height": 472
        },
        "id": "tsp9Nr0_BCSV",
        "outputId": "0e9db699-4f3a-4ef9-fdf3-3f8714f75573"
      },
      "execution_count": 15,
      "outputs": [
        {
          "output_type": "display_data",
          "data": {
            "text/plain": [
              "<Figure size 640x480 with 1 Axes>"
            ],
            "image/png": "[encoded data removed]"
          },
          "metadata": {}
        }
      ]
    },
    {
      "cell_type": "markdown",
      "source": [
        "16. Побудуйте матрицю кореляції для стовпчиків 'user_rating', 'reviews', 'price'."
      ],
      "metadata": {
        "id": "mpChHEdCBE-9"
      }
    },
    {
      "cell_type": "code",
      "source": [
        "from pyspark.ml.stat import Correlation\n",
        "from pyspark.ml.feature import VectorAssembler\n",
        "\n",
        "# Об'єднуємо потрібні стовпці в вектор\n",
        "assembler = VectorAssembler(inputCols=['user_rating', 'reviews', 'price'], outputCol='features')\n",
        "df_vector = assembler.transform(df).select('features')\n",
        "\n",
        "# Обчислюємо матрицю кореляції\n",
        "correlation_matrix = Correlation.corr(df_vector, 'features').head()\n",
        "correlation_array = correlation_matrix[0].toArray()\n",
        "\n",
        "print(\"\\nМатриця кореляції:\")\n",
        "print(correlation_array)"
      ],
      "metadata": {
        "colab": {
          "base_uri": "https://localhost:8080/"
        },
        "id": "P-L80BmrBFR1",
        "outputId": "4ce8a020-50a4-4fde-a3af-d27a6267b9db"
      },
      "execution_count": 16,
      "outputs": [
        {
          "output_type": "stream",
          "name": "stdout",
          "text": [
            "\n",
            "Матриця кореляції:\n",
            "[[ 1.         -0.00172901 -0.13308629]\n",
            " [-0.00172901  1.         -0.10918188]\n",
            " [-0.13308629 -0.10918188  1.        ]]\n"
          ]
        }
      ]
    },
    {
      "cell_type": "markdown",
      "source": [
        "Закриття SparkSession"
      ],
      "metadata": {
        "id": "cx5fb190BHNI"
      }
    },
    {
      "cell_type": "code",
      "source": [
        "spark.stop()"
      ],
      "metadata": {
        "id": "qEu__OfJBIpp"
      },
      "execution_count": 17,
      "outputs": []
    }
  ]
}